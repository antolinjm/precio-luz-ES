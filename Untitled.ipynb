{
 "cells": [
  {
   "cell_type": "code",
   "execution_count": 52,
   "id": "b69a3875",
   "metadata": {},
   "outputs": [
    {
     "name": "stdout",
     "output_type": "stream",
     "text": [
      "2023-09-03\n",
      "Domingo\n"
     ]
    }
   ],
   "source": [
    "from datetime import date\n",
    "import requests\n",
    "import pandas as pd\n",
    "\n",
    "from telegram import Bot\n",
    "from tabulate import tabulate\n",
    "\n",
    "\n",
    "TOKEN = \"5869712499:AAHra7Dzpv9cWi-5yFME9N2Y_GeyQQBEWKM\"\n",
    "chat_id = \"-988080449\"\n",
    "\n",
    "\n",
    "def send_message_to_telegram(text):\n",
    "    bot_token = TOKEN\n",
    "    chat_id = chat_id     # Replace with your chat ID\n",
    "    base_url = f'https://api.telegram.org/bot{bot_token}/sendMessage'\n",
    "    \n",
    "    payload = {\n",
    "        'chat_id': chat_id,\n",
    "        'text': text,\n",
    "        'parse_mode': 'Markdown'\n",
    "    }\n",
    "    \n",
    "    response = requests.post(base_url, data=payload)\n",
    "    return response.json()\n",
    "\n",
    "\n",
    "today = date.today()\n",
    "formatted_date = today.strftime(\"%Y-%m-%d\")\n",
    "print(formatted_date)\n",
    "\n",
    "\n",
    "day = today.weekday()\n",
    "days = [\"Lunes\", \"Martes\", \"Miercoles\", \"Jueves\", \"Viernes\", \"Sabado\", \"Domingo\"]\n",
    "print(days[day])\n",
    "\n"
   ]
  },
  {
   "cell_type": "code",
   "execution_count": 54,
   "id": "b4de5bc5",
   "metadata": {},
   "outputs": [
    {
     "name": "stdout",
     "output_type": "stream",
     "text": [
      "Data downloaded correctly\n",
      "mensajes enviados\n"
     ]
    },
    {
     "ename": "UnboundLocalError",
     "evalue": "local variable 'chat_id' referenced before assignment",
     "output_type": "error",
     "traceback": [
      "\u001b[1;31m---------------------------------------------------------------------------\u001b[0m",
      "\u001b[1;31mUnboundLocalError\u001b[0m                         Traceback (most recent call last)",
      "\u001b[1;32m~\\AppData\\Local\\Temp/ipykernel_16168/2009499271.py\u001b[0m in \u001b[0;36m<module>\u001b[1;34m\u001b[0m\n\u001b[0;32m     56\u001b[0m \u001b[1;33m\u001b[0m\u001b[0m\n\u001b[0;32m     57\u001b[0m \u001b[0mtable_string\u001b[0m \u001b[1;33m=\u001b[0m \u001b[0mtabulate\u001b[0m\u001b[1;33m(\u001b[0m\u001b[0mdata\u001b[0m\u001b[1;33m,\u001b[0m \u001b[0mheaders\u001b[0m\u001b[1;33m=\u001b[0m\u001b[1;34m'keys'\u001b[0m\u001b[1;33m,\u001b[0m \u001b[0mtablefmt\u001b[0m\u001b[1;33m=\u001b[0m\u001b[1;34m'grid'\u001b[0m\u001b[1;33m)\u001b[0m\u001b[1;33m\u001b[0m\u001b[1;33m\u001b[0m\u001b[0m\n\u001b[1;32m---> 58\u001b[1;33m \u001b[0msend_message_to_telegram\u001b[0m\u001b[1;33m(\u001b[0m\u001b[1;34m\"```\\n\"\u001b[0m \u001b[1;33m+\u001b[0m \u001b[0mtable_string\u001b[0m \u001b[1;33m+\u001b[0m \u001b[1;34m\"\\n```\"\u001b[0m\u001b[1;33m)\u001b[0m  \u001b[1;31m# Surrounding with ``` for code block formatting in Markdown.\u001b[0m\u001b[1;33m\u001b[0m\u001b[1;33m\u001b[0m\u001b[0m\n\u001b[0m\u001b[0;32m     59\u001b[0m \u001b[0mprint\u001b[0m\u001b[1;33m(\u001b[0m\u001b[1;34m\"tabla enviada\"\u001b[0m\u001b[1;33m)\u001b[0m\u001b[1;33m\u001b[0m\u001b[1;33m\u001b[0m\u001b[0m\n",
      "\u001b[1;32m~\\AppData\\Local\\Temp/ipykernel_16168/2518566676.py\u001b[0m in \u001b[0;36msend_message_to_telegram\u001b[1;34m(text)\u001b[0m\n\u001b[0;32m     13\u001b[0m \u001b[1;32mdef\u001b[0m \u001b[0msend_message_to_telegram\u001b[0m\u001b[1;33m(\u001b[0m\u001b[0mtext\u001b[0m\u001b[1;33m)\u001b[0m\u001b[1;33m:\u001b[0m\u001b[1;33m\u001b[0m\u001b[1;33m\u001b[0m\u001b[0m\n\u001b[0;32m     14\u001b[0m     \u001b[0mbot_token\u001b[0m \u001b[1;33m=\u001b[0m \u001b[0mTOKEN\u001b[0m\u001b[1;33m\u001b[0m\u001b[1;33m\u001b[0m\u001b[0m\n\u001b[1;32m---> 15\u001b[1;33m     \u001b[0mchat_id\u001b[0m \u001b[1;33m=\u001b[0m \u001b[0mchat_id\u001b[0m     \u001b[1;31m# Replace with your chat ID\u001b[0m\u001b[1;33m\u001b[0m\u001b[1;33m\u001b[0m\u001b[0m\n\u001b[0m\u001b[0;32m     16\u001b[0m     \u001b[0mbase_url\u001b[0m \u001b[1;33m=\u001b[0m \u001b[1;34mf'https://api.telegram.org/bot{bot_token}/sendMessage'\u001b[0m\u001b[1;33m\u001b[0m\u001b[1;33m\u001b[0m\u001b[0m\n\u001b[0;32m     17\u001b[0m \u001b[1;33m\u001b[0m\u001b[0m\n",
      "\u001b[1;31mUnboundLocalError\u001b[0m: local variable 'chat_id' referenced before assignment"
     ]
    }
   ],
   "source": [
    "## Request data\n",
    "\n",
    "response = requests.get('https://api.esios.ree.es/archives/70/download_json?locale=es&date=' + formatted_date)\n",
    "\n",
    "print('Data downloaded correctly')\n",
    "\n",
    "data_json = response.json()\n",
    "\n",
    "\n",
    "#Normalize data and convert to pandas dataframe\n",
    "data = pd.DataFrame(data_json['PVPC'])\n",
    "data = data[['Dia', 'Hora', 'PCB']]\n",
    "\n",
    "data['PCB'] = data['PCB'].str.replace(',', '.').astype(float) / 1000\n",
    "\n",
    "data = data.reset_index(drop=True)\n",
    "#data = data.set_index('Hora')\n",
    "\n",
    "min_pcb_row = data[data['PCB'] == data['PCB'].min()]\n",
    "max_pcb_row = data[data['PCB'] == data['PCB'].max()]\n",
    "\n",
    "hour_with_lowest_pcb = min_pcb_row['Hora'].iloc[0]\n",
    "hour_with_highest_pcb = max_pcb_row['Hora'].iloc[0]\n",
    "\n",
    "average_price = data['PCB'].mean()\n",
    "\n",
    "#Visit link for formatting options\n",
    "#https://core.telegram.org/bots/api#formatting-options\n",
    "\n",
    "#Emoji list available here: https://symbl.cc/en/emoji/\n",
    "#Copy and paste Unicode code\n",
    "\n",
    "intro = \"*Fecha*: \" + formatted_date + \" (\"+ days[day].lower() + \") \\n\"\n",
    "a = \"\\U00002705  *La hora más barata es*: \" + hour_with_lowest_pcb + \" a \" + str(round(min_pcb_row['PCB'].iloc[0],3)) + \"€\\KWh\"\n",
    "b = \"\\U0000274C  *La hora más cara es*: \" + hour_with_highest_pcb + \" a \" + str(round(max_pcb_row['PCB'].iloc[0],3)) + \"€\\KWh\"\n",
    "c = \"       *El precio medio del día es*: \" + str(round(average_price,3)) + \"€\\KWh\"\n",
    "\n",
    "lines = [intro, a, b, c]\n",
    "text = '\\n'.join(lines)\n",
    "\n",
    "\n",
    "data.columns = ['Día', 'Hora', '€/KWh']\n",
    "\n",
    "message_list = [text]\n",
    "\n",
    "\n",
    "for i in message_list:\n",
    "    message = i\n",
    "    url = f\"https://api.telegram.org/bot{TOKEN}/sendMessage?chat_id={chat_id}&parse_mode=Markdown&text={message}\"\n",
    "    requests.get(url).json() # this sends the message\n",
    "    print(\"mensajes enviados\")\n",
    "    \n",
    "\n",
    "    \n",
    "\n",
    "    \n",
    "table_string = tabulate(data, headers='keys', tablefmt='grid')\n",
    "send_message_to_telegram(\"```\\n\" + table_string + \"\\n```\")  # Surrounding with ``` for code block formatting in Markdown.\n",
    "print(\"tabla enviada\")"
   ]
  },
  {
   "cell_type": "code",
   "execution_count": 37,
   "id": "bc04ac08",
   "metadata": {},
   "outputs": [
    {
     "name": "stdout",
     "output_type": "stream",
     "text": [
      "Sunday\n"
     ]
    }
   ],
   "source": [
    "from datetime import date\n",
    "\n",
    "# YYYY, MM, DD\n",
    "d = date(2023, 9, 3)\n",
    "day = d.weekday()\n",
    "\n",
    "days = [\"Monday\", \"Tuesday\", \"Wednesday\", \"Thursday\", \"Friday\", \"Saturday\", \"Sunday\"]\n",
    "\n",
    "print(days[day])\n"
   ]
  }
 ],
 "metadata": {
  "kernelspec": {
   "display_name": "Python 3 (ipykernel)",
   "language": "python",
   "name": "python3"
  },
  "language_info": {
   "codemirror_mode": {
    "name": "ipython",
    "version": 3
   },
   "file_extension": ".py",
   "mimetype": "text/x-python",
   "name": "python",
   "nbconvert_exporter": "python",
   "pygments_lexer": "ipython3",
   "version": "3.9.7"
  }
 },
 "nbformat": 4,
 "nbformat_minor": 5
}
